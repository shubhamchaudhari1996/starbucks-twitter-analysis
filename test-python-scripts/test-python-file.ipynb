{
 "cells": [
  {
   "cell_type": "code",
   "execution_count": 1,
   "id": "0f9317cb",
   "metadata": {},
   "outputs": [],
   "source": [
    "# 1. Import Libraries\n",
    "\n",
    "import pandas as pd\n",
    "import numpy as np\n",
    "import matplotlib.pyplot as plt\n",
    "import seaborn as sns\n",
    "\n",
    "import tweepy\n",
    "from tweepy import OAuthHandler"
   ]
  },
  {
   "cell_type": "code",
   "execution_count": 2,
   "id": "8f461598",
   "metadata": {},
   "outputs": [],
   "source": [
    "# 2.Set Connecion\n",
    "\n",
    "#Get from developers.twitter.com/App->Setting->keys&tokens\n",
    "#Just assign the credentials\n",
    "\n",
    "consumer_key = \"xhsSu7y92oAFi9U3yX794Chav\"\n",
    "consumer_secret = \"0YWxdhZ2XvBs6Tk33iolwIYSdcuZL23CmhRK1TeHV6bIMdQ7SM\"\n",
    "access_token = \"324351622-rO9AGKtQ8WvWBQrX8bnWlEvXcJ3FgKpR3tPLB7fW\"\n",
    "access_token_secret = \"8OAe9FSFELuvIRHccwOgncxAgxIPgGvp19JDe44IeYOuV\"\n",
    "\n",
    "# Use the above credentials to authenticate the API.\n",
    "\n",
    "auth = tweepy.OAuthHandler( consumer_key , consumer_secret )\n",
    "auth.set_access_token( access_token , access_token_secret )\n",
    "api = tweepy.API(auth)"
   ]
  },
  {
   "cell_type": "code",
   "execution_count": 3,
   "id": "c8911936",
   "metadata": {},
   "outputs": [],
   "source": [
    "import json\n",
    "import pymongo"
   ]
  },
  {
   "cell_type": "code",
   "execution_count": 4,
   "id": "4b1fef2a",
   "metadata": {},
   "outputs": [
    {
     "name": "stdout",
     "output_type": "stream",
     "text": [
      "Empty DataFrame\n",
      "Columns: [Date, User, IsVerified, Tweet, Likes, RT, User_location]\n",
      "Index: []\n"
     ]
    }
   ],
   "source": [
    "# 3.To get the tweets in a Proper format, first lets create a Dataframe to store the extracted data.\n",
    "\n",
    "df = pd.DataFrame(columns=[\"Date\",\"User\",\"IsVerified\",\"Tweet\",\"Likes\",\"RT\",'User_location'])\n",
    "print(df)"
   ]
  },
  {
   "cell_type": "code",
   "execution_count": null,
   "id": "48d32fac",
   "metadata": {},
   "outputs": [],
   "source": [
    "connection = MongoClient('localhost', 27017)\n",
    "db = connection.test_database\n",
    "db.test.ensure_index(\"id\", unique=True, dropDups=True)\n",
    "collection = db.test"
   ]
  },
  {
   "cell_type": "code",
   "execution_count": 12,
   "id": "c2fb9b35",
   "metadata": {},
   "outputs": [],
   "source": [
    "# We will use api as api.search inside this tweepy cursor.\n",
    "\n",
    "# We will Use **tweepy.cursor()** because we want to extract a larger number of tweets i.e over 100,500 etc\n",
    "\n",
    "def get_tweets(Topic,Count):    \n",
    "    i=0\n",
    "    for tweet in tweepy.Cursor(api.search, q=Topic,count=100, lang=\"en\",exclude='retweets').items():\n",
    "        print(i, end='\\r')\n",
    "        df.loc[i,\"Date\"] = tweet.created_at\n",
    "        df.loc[i,\"User\"] = tweet.user.name\n",
    "        df.loc[i,\"IsVerified\"] = tweet.user.verified\n",
    "        df.loc[i,\"Tweet\"] = tweet.text\n",
    "        df.loc[i,\"Likes\"] = tweet.favorite_count\n",
    "        df.loc[i,\"RT\"] = tweet.retweet_count\n",
    "        df.loc[i,\"User_location\"] = tweet.user.location\n",
    "#         df.to_csv(\"TweetDataset.csv\",index=False)\n",
    "#         df.to_excel('{}.xlsx'.format(\"TweetDataset\"),index=False)   ## Save as Excel\n",
    "        parsed = json.loads(df.to_json(orient=\"records\"))\n",
    "        print(parsed)\n",
    "#         json.dumps(parsed, indent=4)\n",
    "#         print(json.dumps(parsed, indent=4))\n",
    "        i=i+1\n",
    "        if i>Count:\n",
    "            break\n",
    "        else:\n",
    "            pass"
   ]
  },
  {
   "cell_type": "code",
   "execution_count": 13,
   "id": "2a8e3ebd",
   "metadata": {},
   "outputs": [
    {
     "name": "stdout",
     "output_type": "stream",
     "text": [
      "100\r",
      "[{'Date': 1617810547000, 'User': 'Fcuk Derek Chauvin', 'IsVerified': False, 'Tweet': '@1983Mo @Starbucks Not that I’ve seen.', 'Likes': 0, 'RT': 0, 'User_location': 'Maryland, USA'}, {'Date': 1617810542000, 'User': 'Chan✨', 'IsVerified': False, 'Tweet': 'I’m sorry but a starbucks drive thru should take 5 minutes tops. Only drinks are being made.', 'Likes': 0, 'RT': 0, 'User_location': 'Houston, TX'}, {'Date': 1617810541000, 'User': 'MC Connors', 'IsVerified': False, 'Tweet': '@NoraPrinciotti Is “get up each day/get a beach day” the new “starbucks lovers??” Need to know.', 'Likes': 0, 'RT': 0, 'User_location': ''}, {'Date': 1617810519000, 'User': '𝚜𝚠𝚊𝚖𝚙 𝚍𝚎𝚖𝚘𝚗', 'IsVerified': False, 'Tweet': 'Pro tip: if you’re addicted like me and Starbucks is out of the brown sugar syrup, you can sub cinnamon dolce and i… https://t.co/OXENvSzwY9', 'Likes': 0, 'RT': 0, 'User_location': 'NE•TX•MN•AR•CO'}, {'Date': 1617810513000, 'User': 'Kate', 'IsVerified': False, 'Tweet': 'I got a kiwi star fruit refresher at Starbucks and added 2 pumps of raspberry and holyyyy fuck my life has changed 😍', 'Likes': 0, 'RT': 0, 'User_location': 'Boulder, CO'}, {'Date': 1617810510000, 'User': '❀A❀', 'IsVerified': False, 'Tweet': 'I got free Starbucks this morning 🤩', 'Likes': 0, 'RT': 0, 'User_location': 'New Orleans, LA'}, {'Date': 1617810503000, 'User': 'Melons🍈🐼 @Dissociation Station', 'IsVerified': False, 'Tweet': 'I will get a Starbucks FRAP to calm my nerves 😣😖😖😖😖😖😖', 'Likes': 0, 'RT': 0, 'User_location': ''}, {'Date': 1617810500000, 'User': \"Mo'💲\", 'IsVerified': False, 'Tweet': 'Is @Starbucks allowing guest to use their lounge area?', 'Likes': 0, 'RT': 0, 'User_location': 'Queen of Swords ⚔'}, {'Date': 1617810487000, 'User': 'Emily', 'IsVerified': False, 'Tweet': '@Julie_Harris02 There’s a Starbucks in my office !!!!', 'Likes': 0, 'RT': 0, 'User_location': 'Aberdeen, Scotland'}, {'Date': 1617810485000, 'User': 'Pfizer Pfiner 💉', 'IsVerified': False, 'Tweet': 'Lmaooo I know this white lady mad af at me in this Starbucks line. Tried to cut me off cause this line wrapped arou… https://t.co/Az6gWvEmo1', 'Likes': 0, 'RT': 0, 'User_location': 'What?'}, {'Date': 1617810481000, 'User': 'kris (a haruki murakami fan)', 'IsVerified': False, 'Tweet': 'Starbucks Ph has an annual holiday promo where you can get an exclusive planner if you earn enough stickers. I used… https://t.co/0kMxWk6aA3', 'Likes': 1, 'RT': 0, 'User_location': 'Metro Manila, Ph'}, {'Date': 1617810481000, 'User': 'TMJ-RIP Retail Jobs', 'IsVerified': False, 'Tweet': 'This job is now open at Starbucks in #Cambridge, MA. Follow us and turn on mobile alerts to hear about jobs like th… https://t.co/SJOfWbjbth', 'Likes': 0, 'RT': 0, 'User_location': 'Providence, RI'}, {'Date': 1617810472000, 'User': 'alex ⚣︎ is on the waitlist', 'IsVerified': False, 'Tweet': 'ok im just gonna get some monster at the dollar store n see if theres the starbucks canned drinks n if not ill get… https://t.co/4jtb7DxChw', 'Likes': 0, 'RT': 0, 'User_location': '19 ☆ he/him'}, {'Date': 1617810471000, 'User': '~ Fer ~', 'IsVerified': False, 'Tweet': '@rudehanna05 wha- I love Dua and US it’s not even her own country, but Olivia’s songs are really deep to be just St… https://t.co/Nh0HeCwZ0C', 'Likes': 0, 'RT': 0, 'User_location': ''}, {'Date': 1617810467000, 'User': 'Brun Brun', 'IsVerified': False, 'Tweet': '@vee__tweets @4merme1 @Starbucks bear just gets wal mart donut shop, make in drip maker\\n\\nbut\\n\\nkeep CLEAN, clean mak… https://t.co/ZN5PwbJIUT', 'Likes': 0, 'RT': 0, 'User_location': 'In the woods.'}, {'Date': 1617810462000, 'User': 'heather mooney', 'IsVerified': False, 'Tweet': 'I see a parking lot fight at the Starbucks on Morrison every day and it’s because the people here are dumb as fuck… https://t.co/xZ4DTw7F5N', 'Likes': 0, 'RT': 0, 'User_location': 'Brownsville, TX'}, {'Date': 1617810443000, 'User': 'Hannah B.', 'IsVerified': False, 'Tweet': 'The Starbucks on University is playing turning off the mobile ordering \\U0001f90c🏽', 'Likes': 0, 'RT': 0, 'User_location': 'Heaven on Earth ❤️'}, {'Date': 1617810438000, 'User': 'kathalinetorres', 'IsVerified': False, 'Tweet': 'Don’t offer me Starbucks or Dutch cause ima say yes 😌 idc who’s madd', 'Likes': 0, 'RT': 0, 'User_location': 'Reedley, CA'}, {'Date': 1617810435000, 'User': 'Kav', 'IsVerified': False, 'Tweet': '@Starbucks I am still waiting on your reply to address my concerns :/', 'Likes': 0, 'RT': 0, 'User_location': ''}, {'Date': 1617810432000, 'User': 'Flo ♡', 'IsVerified': False, 'Tweet': '@harrygvlden The only two trending things the little one with the cheekbones likes: starbucks and his prince', 'Likes': 1, 'RT': 0, 'User_location': 'she/her•larrie•one direction'}, {'Date': 1617810432000, 'User': '𝙷𝚊𝚢𝚕𝚎𝚢 📷\\U0001f90d', 'IsVerified': False, 'Tweet': 'I asked for a straw at Starbucks and the barista handed it to me and said “kill that sea turtle queen” 💀', 'Likes': 1, 'RT': 0, 'User_location': 'Winston-Salem, NC'}, {'Date': 1617810422000, 'User': 'sasha', 'IsVerified': False, 'Tweet': '@yoonziibot starbucks is very expensive do they put real gold in their coffees or what', 'Likes': 0, 'RT': 0, 'User_location': 'she/her desi'}, {'Date': 1617810409000, 'User': 'chula 👑', 'IsVerified': False, 'Tweet': '@itzzchristi Starbucks.', 'Likes': 0, 'RT': 0, 'User_location': ''}, {'Date': 1617810396000, 'User': 'AJ 🧛🏼\\u200d♀️', 'IsVerified': False, 'Tweet': 'this cold won’t stop me from getting that white choc frap from Starbucks 🙈', 'Likes': 0, 'RT': 0, 'User_location': ''}, {'Date': 1617810378000, 'User': '𝔢𝔪𝔦𝔩𝔦𝔞', 'IsVerified': False, 'Tweet': 'my total at starbucks today was 777 omg', 'Likes': 0, 'RT': 0, 'User_location': 'she/her '}, {'Date': 1617810373000, 'User': 'Starbucks Care', 'IsVerified': True, 'Tweet': \"@taybeautyy Hi, Tay. Thanks for reaching out, and happy belated birthday. I'm sorry that you weren't able to come t… https://t.co/ejOvGiPsge\", 'Likes': 0, 'RT': 0, 'User_location': 'US & Canada'}, {'Date': 1617810369000, 'User': 'Starbucks Care', 'IsVerified': True, 'Tweet': \"@itsmollymollie Hi Molly, I'm sorry this was your experience. I can understand how disappointing that can be, and I… https://t.co/qrbCWXQkct\", 'Likes': 0, 'RT': 0, 'User_location': 'US & Canada'}, {'Date': 1617810361000, 'User': 'Jessica', 'IsVerified': False, 'Tweet': 'Medicine ball from Starbucks 20/20 \\U0001f972❤️', 'Likes': 0, 'RT': 0, 'User_location': 'California, USA'}, {'Date': 1617810355000, 'User': 'AB', 'IsVerified': False, 'Tweet': 'Not the sorority girls sitting on state drinking Starbucks yelling “we look like homeless people” in front of actua… https://t.co/RlpOhPzNUD', 'Likes': 0, 'RT': 0, 'User_location': 'UW-Madison'}, {'Date': 1617810341000, 'User': 'Nikita 💜 13T$', 'IsVerified': False, 'Tweet': 'The fact that my school’s Starbucks was playing My Time 😿 like 86% of my school is conservative rich white kids', 'Likes': 0, 'RT': 0, 'User_location': '24, her/she, alana✨TaePB'}, {'Date': 1617810341000, 'User': 'puked on a bullet train in japan', 'IsVerified': False, 'Tweet': 'im way too high to be in the starbucks drive thru rn', 'Likes': 0, 'RT': 0, 'User_location': 'they'}, {'Date': 1617810337000, 'User': '〽️', 'IsVerified': False, 'Tweet': 'Alright alright. What is your go to Starbucks drink?', 'Likes': 0, 'RT': 0, 'User_location': '8️⃣0️⃣3️⃣🌙 🌴'}, {'Date': 1617810336000, 'User': '𝒯𝒾𝒻𝒻𝒶𝓃𝓎🖤', 'IsVerified': False, 'Tweet': 'Why can’t I find Starbucks caramel macchiato creamer at martins, Walmart or DG anymore?? I AM ANGRY 😤', 'Likes': 0, 'RT': 0, 'User_location': 'Keyser, WV'}, {'Date': 1617810333000, 'User': 'Am I drinking coffee?', 'IsVerified': False, 'Tweet': \"I'm not sipping the starbucks and it's all good.\", 'Likes': 0, 'RT': 0, 'User_location': ''}, {'Date': 1617810328000, 'User': 'ke ti', 'IsVerified': False, 'Tweet': 'Our elevators aren’t working so I can’t even go back down for a Starbucks :/', 'Likes': 0, 'RT': 0, 'User_location': 'Los Angeles, CA'}, {'Date': 1617810323000, 'User': '✨Magical Boy Nick✨', 'IsVerified': False, 'Tweet': 'I may be broke as a joke but I got free Starbucks today. So whose the real winner?', 'Likes': 1, 'RT': 0, 'User_location': 'Pumpkin Hill'}, {'Date': 1617810318000, 'User': 'gabagrool', 'IsVerified': False, 'Tweet': 'ALL THE GIRLS IN THIS STARBUCKS ORDERING A STRAWBERRY REFRESHER BYE I ALMOST DID TOO', 'Likes': 2, 'RT': 0, 'User_location': 'she/her'}, {'Date': 1617810317000, 'User': 'Rose Gold (ABRG)', 'IsVerified': False, 'Tweet': 'Headed into another stay at home order .Canadians when will you fucking get it that you don’t need the mall and Sta… https://t.co/dGvRzel06u', 'Likes': 0, 'RT': 0, 'User_location': 'Ontario, Canada'}, {'Date': 1617810317000, 'User': 'Mikey 😊🏳️\\u200d🌈🎮', 'IsVerified': False, 'Tweet': '@DCHomosIntern Can someone please take to that Starbucks, really appreciate. 😊', 'Likes': 0, 'RT': 0, 'User_location': 'Fairfax, Va.'}, {'Date': 1617810314000, 'User': 'Kez', 'IsVerified': False, 'Tweet': '@personifier @fem_mb U said she had terrible views. On the other hand, companies like, for example Starbucks which… https://t.co/iXYPKijb2r', 'Likes': 0, 'RT': 0, 'User_location': ''}, {'Date': 1617810310000, 'User': 'Ely', 'IsVerified': False, 'Tweet': 'They didn’t make my Starbucks drink with love this morning 😒', 'Likes': 0, 'RT': 0, 'User_location': 'Chicago, IL'}, {'Date': 1617810304000, 'User': 'RR☘️ 🥁🦑🧲', 'IsVerified': False, 'Tweet': 'In Starbucks rn, literally the only non white and male here. 😎', 'Likes': 4, 'RT': 0, 'User_location': ''}, {'Date': 1617810294000, 'User': 'kt', 'IsVerified': False, 'Tweet': 'starbucks iced blonde latte with brown sugar syrup and oat milk tastes like HONEY NUT CHEERIOS 🤩🤩🤩', 'Likes': 1, 'RT': 0, 'User_location': 'mystic ct'}, {'Date': 1617810278000, 'User': 'GrandMasterFlexNutz', 'IsVerified': False, 'Tweet': '@jbroncs2003 @jonjonweb85 @mtn_zn @Nic99763076 @KyleClark I got my stat from living life walking around seeing ever… https://t.co/ig1oWDaD94', 'Likes': 0, 'RT': 0, 'User_location': ''}, {'Date': 1617810271000, 'User': 'gin', 'IsVerified': False, 'Tweet': \"@Starbucks hey I don't like coffee but I drink tea and I'd have to say it was a bird\\nI like birds idk\", 'Likes': 0, 'RT': 0, 'User_location': 'Moominvalley '}, {'Date': 1617810263000, 'User': 'Molly', 'IsVerified': False, 'Tweet': '@juanitaescareno @Starbucks I’m pretty sure they actually are independently owned. They should all have the same stuff though🧐🧐🧐', 'Likes': 0, 'RT': 0, 'User_location': 'Stillwater, OK'}, {'Date': 1617810244000, 'User': 'Starbucks Care', 'IsVerified': True, 'Tweet': \"@imusingss Hi there! Thanks for reaching out. I'm sorry that you were charged twice for your order yesterday. I'd b… https://t.co/4TOJX7lB3b\", 'Likes': 0, 'RT': 0, 'User_location': 'US & Canada'}, {'Date': 1617810241000, 'User': 'Keem .', 'IsVerified': False, 'Tweet': 'Ok so y’all really be buying y’all dogs Starbucks?? 👀', 'Likes': 0, 'RT': 0, 'User_location': ''}, {'Date': 1617810225000, 'User': '🌻 Amari 🌻', 'IsVerified': False, 'Tweet': '@Tb24Tierra What did you get from Starbucks?', 'Likes': 0, 'RT': 0, 'User_location': 'Las Vegas, NV'}, {'Date': 1617810224000, 'User': 'Jessica L.🧢', 'IsVerified': False, 'Tweet': 'Starbucks is celebrating the planet with a brand-new game—play for a chance to win 2.5M prizes. https://t.co/AYwzbF8Xuh', 'Likes': 0, 'RT': 0, 'User_location': ''}, {'Date': 1617810223000, 'User': 'aubrey❣️', 'IsVerified': False, 'Tweet': 'went to the gym, got some grocery shopping done, went to target, got my car washed, and tanned and got Starbucks. wow i feel like an adult.', 'Likes': 0, 'RT': 0, 'User_location': ''}, {'Date': 1617810220000, 'User': 'jess is pete davidson’s gf', 'IsVerified': False, 'Tweet': 'what should i get at starbucks', 'Likes': 0, 'RT': 0, 'User_location': 'she/her 19 read carrd byf '}, {'Date': 1617810216000, 'User': 'Honey', 'IsVerified': False, 'Tweet': 'Why does Starbucks water taste like cardboard', 'Likes': 0, 'RT': 0, 'User_location': ''}, {'Date': 1617810210000, 'User': 'Katie', 'IsVerified': False, 'Tweet': 'Starbucks needs to chill with these rewards because it makes me feel like it’s a game and I need to win', 'Likes': 1, 'RT': 0, 'User_location': ''}, {'Date': 1617810208000, 'User': 'Leave it to Esh!', 'IsVerified': False, 'Tweet': 'Definitely going to Starbucks on break 😩', 'Likes': 0, 'RT': 0, 'User_location': 'Atlanta,ga'}, {'Date': 1617810195000, 'User': 'kami.', 'IsVerified': False, 'Tweet': '@drivingmemadi flashbacks from starbucks and ppl ordering 10 chocolate croissants', 'Likes': 0, 'RT': 0, 'User_location': ''}, {'Date': 1617810194000, 'User': 'indiasimone✨', 'IsVerified': False, 'Tweet': 'so, none of my cousins can bring me starbucks, my bff said she cant sit in line because of her niece😒 please dont reach out when im rich', 'Likes': 0, 'RT': 0, 'User_location': 'BADBITCH, USA'}, {'Date': 1617810187000, 'User': 'bébé', 'IsVerified': False, 'Tweet': 'now why did the starbucks employee just say “see you tomorrow” in a condescending tone', 'Likes': 0, 'RT': 0, 'User_location': ''}, {'Date': 1617810184000, 'User': 'Lydia', 'IsVerified': False, 'Tweet': '@Starbucks Forsythia are in bloom', 'Likes': 0, 'RT': 0, 'User_location': 'Michigan'}, {'Date': 1617810184000, 'User': '✨Sharkuccino✨', 'IsVerified': False, 'Tweet': 'if this fucking Starbucks runs out of oatmilk ONE MORE TIME im burning it DOWN', 'Likes': 1, 'RT': 0, 'User_location': 'Anaheim, CA '}, {'Date': 1617810180000, 'User': 'ersida ♡’s zayn', 'IsVerified': False, 'Tweet': 'louis with his starbucks/ coffee:\\n-a thread 🧵:)', 'Likes': 10, 'RT': 2, 'User_location': 'larrie | ot5 '}, {'Date': 1617810179000, 'User': 'Kari Keone 💿', 'IsVerified': False, 'Tweet': 'I won’t get Starbucks unless there’s no other option but man, that iced lemon loaf calls to me like Jumanji', 'Likes': 9, 'RT': 0, 'User_location': 'Raccoon City'}, {'Date': 1617810174000, 'User': 'VeeTHis', 'IsVerified': False, 'Tweet': \"@4merme1 @BrunTheBear @Starbucks That's exactly my hold up with coffee. I'm sure there's some way I'll like it but… https://t.co/5jGIFWmQuI\", 'Likes': 2, 'RT': 0, 'User_location': 'New Hampshire'}, {'Date': 1617810171000, 'User': 'Amy', 'IsVerified': False, 'Tweet': 'Up early, might as well get some Starbucks after the dispensary 🥰', 'Likes': 0, 'RT': 0, 'User_location': 'Los Angeles, CA'}, {'Date': 1617810171000, 'User': 'HALO', 'IsVerified': False, 'Tweet': 'After 10+ years of drinking the same beverage @ @Starbucks I finally switched things up . I tried the Dragonfruit r… https://t.co/dmUCEkrSUz', 'Likes': 1, 'RT': 0, 'User_location': 'PHL / ATL'}, {'Date': 1617810162000, 'User': 'Bad VVitch', 'IsVerified': False, 'Tweet': 'Sup I had Starbucks at the park and watched the doggies frolic and play 🐕  💕 https://t.co/iNmZVVpzRT', 'Likes': 2, 'RT': 0, 'User_location': 'Boston, MA'}, {'Date': 1617810155000, 'User': 'Matty Chill 🇺🇸🏁', 'IsVerified': False, 'Tweet': '@a3voices definitely going to hold up the line in Starbucks waiting for that payment to finalize, lol', 'Likes': 3, 'RT': 0, 'User_location': 'Pennsyltucky, USA'}, {'Date': 1617810139000, 'User': '→#Cassie♀', 'IsVerified': False, 'Tweet': '@iCourtana Dunkin’ lowkey sucks around me anyways I always go with Starbucks. 😭🔥', 'Likes': 0, 'RT': 0, 'User_location': 'Indiana, USA'}, {'Date': 1617810139000, 'User': 'ᗰᗩᑎᗪᗩ💋', 'IsVerified': False, 'Tweet': 'Niya really be in Starbucks ordering a drink like she a pro 😭', 'Likes': 0, 'RT': 0, 'User_location': 'baltimore'}, {'Date': 1617810133000, 'User': 'Zoë \\U0001fa78🦷', 'IsVerified': False, 'Tweet': \"@govmikeyd @daffodildil @lillbeanhead @emilyonhere I'm not dismissive of mothers at Starbucks, but I am dismissive… https://t.co/AXNbjrSqzx\", 'Likes': 1, 'RT': 0, 'User_location': 'Philadelphia'}, {'Date': 1617810110000, 'User': 'Dr. Tristan Bills 🔥', 'IsVerified': False, 'Tweet': \"Why isn't @Starbucks on @DoorDash?! Or @beansandbrews? First one there gets my spur of the moment business.\", 'Likes': 0, 'RT': 0, 'User_location': 'Salt Lake City, Utah'}, {'Date': 1617810102000, 'User': 'dani🖤', 'IsVerified': False, 'Tweet': 'Just walked into Starbucks without a mask I wanna end my shit', 'Likes': 1, 'RT': 0, 'User_location': ''}, {'Date': 1617810100000, 'User': 'BabyGirl 💋✨', 'IsVerified': False, 'Tweet': 'Im so mad my coworker said she’d bring me Starbucks after she got off &amp; when she brought it I was on a transport \\U0001f972… https://t.co/pqQ7TmHxGW', 'Likes': 0, 'RT': 0, 'User_location': ''}, {'Date': 1617810098000, 'User': 'KINRO FAN PAGE:)', 'IsVerified': False, 'Tweet': 'mannn whoever made my coffee at starbucks just now need 2 b ate up IMMEDIATELY.. dis shit so good', 'Likes': 0, 'RT': 0, 'User_location': 'nola'}, {'Date': 1617810095000, 'User': 'Kind Regards', 'IsVerified': False, 'Tweet': 'Nothing says Millennial quite like washing down my antidepressant with an iced brown sugar oat milk shaken espresso from Starbucks.', 'Likes': 0, 'RT': 0, 'User_location': ''}, {'Date': 1617810094000, 'User': 'brick ♡', 'IsVerified': False, 'Tweet': 'what do i get at starbucks quick', 'Likes': 0, 'RT': 0, 'User_location': 'no tws • 20'}, {'Date': 1617810089000, 'User': 'ruth', 'IsVerified': False, 'Tweet': 'okay guys im off to starbucks. if something happens. Which it probably will. i will stop my car', 'Likes': 18, 'RT': 0, 'User_location': 'she / her'}, {'Date': 1617810089000, 'User': 'Pineapple Finger Guns ™', 'IsVerified': False, 'Tweet': '@TheChipKFabe The Starbucks one is better, comparatively.', 'Likes': 0, 'RT': 0, 'User_location': ''}, {'Date': 1617810073000, 'User': 'Big Purrr 💫', 'IsVerified': False, 'Tweet': \"Y'all Starbucks in Zambia 😮 so cool https://t.co/SOzYHSjLv9\", 'Likes': 0, 'RT': 0, 'User_location': '🇿🇲'}, {'Date': 1617810071000, 'User': 'ananya :)', 'IsVerified': False, 'Tweet': '@cyphersea oh really i actually like the Starbucks ka iced americano', 'Likes': 0, 'RT': 0, 'User_location': 'she/her'}, {'Date': 1617810068000, 'User': 'TMJ-SHE Jobs', 'IsVerified': False, 'Tweet': \"We're hiring in #Sheffield! Click the link in our bio to apply to this job and more: Shift Supervisor - Store# 1283… https://t.co/9zVkQshozn\", 'Likes': 0, 'RT': 0, 'User_location': 'Sheffield'}, {'Date': 1617810059000, 'User': '...', 'IsVerified': False, 'Tweet': 'trying the new plant based protein box from Starbucks.', 'Likes': 1, 'RT': 0, 'User_location': 'pacificnorthwest '}, {'Date': 1617810057000, 'User': 'Tansy Rogerson', 'IsVerified': False, 'Tweet': 'This could be really interesting for hospitality wishing to cut costs &amp; waste 🤔 will be watching to see how it take… https://t.co/NOn7ZWHV5W', 'Likes': 1, 'RT': 0, 'User_location': 'Conwy'}, {'Date': 1617810044000, 'User': '💸Nicollect ⚖️', 'IsVerified': False, 'Tweet': 'I just said that I should go to Starbucks then this pops up. 👀 https://t.co/H92Aw8XFwn', 'Likes': 0, 'RT': 0, 'User_location': 'MooCow'}, {'Date': 1617810034000, 'User': 'erica abi wright', 'IsVerified': False, 'Tweet': '@drawntosenia Pick me up Starbucks', 'Likes': 0, 'RT': 0, 'User_location': 'Not in Queens, NY anymore :/'}, {'Date': 1617810033000, 'User': 'crog', 'IsVerified': False, 'Tweet': '@bassoonblower cant wait to text u asking for starbucks xxx', 'Likes': 0, 'RT': 0, 'User_location': 'Glasgow, Scotland'}, {'Date': 1617810028000, 'User': 'Sameem \\U0001fa90', 'IsVerified': False, 'Tweet': 'One of the biggest improvements I’ve noticed to my home town since movie back is that there are now at least as man… https://t.co/rVMX9LBH5C', 'Likes': 0, 'RT': 0, 'User_location': 'DC Suburbaland'}, {'Date': 1617810028000, 'User': 'ILona', 'IsVerified': False, 'Tweet': 'Starbucks is celebrating the planet with a brand-new game—play for a chance to win 2.5M prizes. https://t.co/KMrtkLd2LI', 'Likes': 0, 'RT': 0, 'User_location': 'Chicago'}, {'Date': 1617810023000, 'User': 'Josh Johnson', 'IsVerified': False, 'Tweet': 'My Grandpa was lost the first time I took him to Starbucks and he just wanted a cup of coffee. I get that now when… https://t.co/k6Y9xzR9yI', 'Likes': 4, 'RT': 0, 'User_location': 'Phoenix, Az'}, {'Date': 1617810017000, 'User': 'JUICE GAWD🥤💪🏼', 'IsVerified': False, 'Tweet': 'So my sister is calling me asking what package I’m missing from this mornings delivery And in the background HER bo… https://t.co/XRjoBmXMoK', 'Likes': 0, 'RT': 0, 'User_location': 'Work/Gym/MMA/Sanger'}, {'Date': 1617810009000, 'User': 'sasha', 'IsVerified': False, 'Tweet': '@yoonziibot no no a few years back i bought this really expensive and stupid black coffee from starbucks and it did… https://t.co/ojQrg2C4yT', 'Likes': 0, 'RT': 0, 'User_location': 'she/her desi'}, {'Date': 1617809998000, 'User': 'Katie Camie', 'IsVerified': False, 'Tweet': \"Did ya girl get herself two different drinks at Starbucks today?? You betcha. That's what happens when we make hist… https://t.co/SQirPmaAl7\", 'Likes': 1, 'RT': 0, 'User_location': ''}, {'Date': 1617809988000, 'User': 'Kace', 'IsVerified': False, 'Tweet': 'Theme of the day “SIR, this is a Starbucks”', 'Likes': 0, 'RT': 0, 'User_location': 'North Carolina'}, {'Date': 1617809985000, 'User': 'Cameron Shaw 🇪🇺🇬🇧🇩🇪🏳️\\u200d🌈📷', 'IsVerified': False, 'Tweet': '@Palaeoboy @ClickErik @The6millionPman Definately. In fact personally I would prefer to see a worn step than some g… https://t.co/KmuP57PVi5', 'Likes': 2, 'RT': 0, 'User_location': 'Stoke-on-Trent, Staffs, UK'}, {'Date': 1617809984000, 'User': 'Muva Twink 🃏', 'IsVerified': False, 'Tweet': 'I finally got this top off my Starbucks cup after like 3years.', 'Likes': 0, 'RT': 0, 'User_location': ''}, {'Date': 1617809981000, 'User': '‣ jesse', 'IsVerified': False, 'Tweet': 'my starbucks people 🥺💖 https://t.co/OSHnR4U86w', 'Likes': 5, 'RT': 0, 'User_location': '18+ only | pfp: spvcervnger'}, {'Date': 1617809977000, 'User': 'leah', 'IsVerified': False, 'Tweet': 'when will the treasure coast mall get with it and open a full sized Starbucks \\nWAY too many people require service… https://t.co/LFjNGNPjPt', 'Likes': 0, 'RT': 0, 'User_location': ''}, {'Date': 1617809972000, 'User': 'TheFooseisLoose 🏈', 'IsVerified': False, 'Tweet': '@Starbucks I saw the impending doom of computer controlled society on my laptop while it was still dark outside. 9am people have it good.', 'Likes': 0, 'RT': 0, 'User_location': 'Up some holler'}, {'Date': 1617809966000, 'User': 'trader hoes 🌺', 'IsVerified': False, 'Tweet': '@dark0rchid @Starbucks Oat milk SLAPS people need to stop sleeping on it', 'Likes': 0, 'RT': 0, 'User_location': \"foreman's basement\"}, {'Date': 1617809957000, 'User': 'florhunnid', 'IsVerified': False, 'Tweet': 'I accidentally reloaded $25 onto my Starbucks app 😑 so now I gotta go to Starbucks to put it to use lmao all I want… https://t.co/ApEF32sAW3', 'Likes': 1, 'RT': 0, 'User_location': 'Balifornia'}, {'Date': 1617809955000, 'User': '♬ • ᴋʏᴏᴜᴋᴀ.• ♬', 'IsVerified': False, 'Tweet': '@1bLizardQueen I STILL WCANT SEE IT IM CRY\\n\\nstupid starbucks wifi', 'Likes': 0, 'RT': 0, 'User_location': 'ɪ ꜱᴀɪᴅ, ɪ 𝘼𝘿𝙊𝙍𝙀 ʏᴏᴜ'}]\n"
     ]
    }
   ],
   "source": [
    "# Call the function to extract the data. pass the topic and filename you want the data to be stored in.\n",
    "Topic=[\"Starbucks\"]\n",
    "get_tweets(Topic , Count=100)"
   ]
  },
  {
   "cell_type": "code",
   "execution_count": null,
   "id": "d814e8db",
   "metadata": {},
   "outputs": [],
   "source": [
    "from pymongo import MongoClient\n",
    "import json\n",
    "from tweepy.streaming import StreamListener\n",
    "from tweepy import OAuthHandler\n",
    "from tweepy import Stream\n",
    "import datetime\n",
    "\n",
    "\n",
    "# The MongoDB connection info. This assumes your database name is twitter_database, and your collection name is tweets.\n",
    "connection = MongoClient('localhost', 27017)\n",
    "db = connection.twitter_database\n",
    "db.tweets.ensure_index(\"id\", unique=True, dropDups=True)\n",
    "collection = db.tweets\n",
    "\n",
    "# Add the keywords you want to track. They can be cashtags, hashtags, or words.\n",
    "keywords = ['starbucks', '#starbucks']\n",
    "\n",
    "# Optional - Only grab tweets of specific language\n",
    "language = ['en']\n",
    "\n",
    "# You need to replace these with your own values that you get after creating an app on Twitter's developer portal.\n",
    "consumer_key = \"xhsSu7y92oAFi9U3yX794Chav\"\n",
    "consumer_secret = \"0YWxdhZ2XvBs6Tk33iolwIYSdcuZL23CmhRK1TeHV6bIMdQ7SM\"\n",
    "access_token = \"324351622-rO9AGKtQ8WvWBQrX8bnWlEvXcJ3FgKpR3tPLB7fW\"\n",
    "access_token_secret = \"8OAe9FSFELuvIRHccwOgncxAgxIPgGvp19JDe44IeYOuV\"\n",
    "\n",
    "# The below code will get Tweets from the stream and store only the important fields to your database\n",
    "class StdOutListener(StreamListener):\n",
    "\n",
    "    def on_data(self, data):\n",
    "\n",
    "        # Load the Tweet into the variable \"t\"\n",
    "        t = json.loads(data)\n",
    "\n",
    "        # Pull important data from the tweet to store in the database.\n",
    "        tweet_id = t['id_str']  # The Tweet ID from Twitter in string format\n",
    "        created_at = t['created_at']\n",
    "        username = t['user']['screen_name']  # The username of the Tweet author\n",
    "        followers = t['user']['followers_count']  # The number of followers the Tweet author has\n",
    "        text = t['text']  # The entire body of the Tweet\n",
    "        favorite_count = t['favorite_count']\n",
    "        hashtags = t['entities']['hashtags']  # Any hashtags used in the Tweet\n",
    "        retweet_count = t['retweet_count']\n",
    "        location = t['user']['location']\n",
    "        dt = t['created_at']  # The timestamp of when the Tweet was created\n",
    "        language = t['lang']  # The language of the Tweet\n",
    "\n",
    "        # Convert the timestamp string given by Twitter to a date object called \"created\". This is more easily manipulated in MongoDB.\n",
    "        created = datetime.datetime.strptime(dt, '%a %b %d %H:%M:%S +0000 %Y')\n",
    "\n",
    "        # Load all of the extracted Tweet data into the variable \"tweet\" that will be stored into the database\n",
    "        tweet = {'id':tweet_id, 'created_at':created_at, 'username':username, 'followers':followers, 'tweet':text, 'favorite_count':favorite_count,'hashtags':hashtags, 'retweet_count':retweet_count, 'location':location, 'language':language, 'created':created}\n",
    "\n",
    "        # Save the refined Tweet data to MongoDB\n",
    "        collection.save(tweet)\n",
    "\n",
    "        # Optional - Print the username and text of each Tweet to your console in realtime as they are pulled from the stream\n",
    "        print(username + ':' + ' ' + text)\n",
    "        return True\n",
    "        \n",
    "    # Prints the reason for an error to your console\n",
    "    def on_error(self, status):\n",
    "        print(status)\n",
    "\n",
    "# Some Tweepy code that can be left alone. It pulls from variables at the top of the script\n",
    "if __name__ == '__main__':\n",
    "    l = StdOutListener()\n",
    "    auth = OAuthHandler(consumer_key, consumer_secret)\n",
    "    auth.set_access_token(access_token, access_token_secret)\n",
    "\n",
    "    stream = Stream(auth, l)\n",
    "    stream.filter(track=keywords, languages=language)"
   ]
  },
  {
   "cell_type": "code",
   "execution_count": 36,
   "id": "523efde2",
   "metadata": {},
   "outputs": [
    {
     "data": {
      "text/html": [
       "<div>\n",
       "<style scoped>\n",
       "    .dataframe tbody tr th:only-of-type {\n",
       "        vertical-align: middle;\n",
       "    }\n",
       "\n",
       "    .dataframe tbody tr th {\n",
       "        vertical-align: top;\n",
       "    }\n",
       "\n",
       "    .dataframe thead th {\n",
       "        text-align: right;\n",
       "    }\n",
       "</style>\n",
       "<table border=\"1\" class=\"dataframe\">\n",
       "  <thead>\n",
       "    <tr style=\"text-align: right;\">\n",
       "      <th></th>\n",
       "      <th>Likes</th>\n",
       "    </tr>\n",
       "  </thead>\n",
       "  <tbody>\n",
       "  </tbody>\n",
       "</table>\n",
       "</div>"
      ],
      "text/plain": [
       "Empty DataFrame\n",
       "Columns: [Likes]\n",
       "Index: []"
      ]
     },
     "execution_count": 36,
     "metadata": {},
     "output_type": "execute_result"
    }
   ],
   "source": [
    "import sys\n",
    "import pymongo\n",
    "from pymongo import MongoClient\n",
    "connection = MongoClient('localhost', 27017)\n",
    "db = connection.twitter_database\n",
    "collection = db.tweets_data\n",
    "\n",
    "import pandas as pd\n",
    "# from pandas import DataFrame\n",
    "data = db.collection.find({'Likes':0})\n",
    "tweet_fields = ['Likes']\n",
    "result = DataFrame(list(data), columns = tweet_fields)\n",
    "# print(result)\n",
    "# result.tail()\n",
    "# print(data)\n",
    "# df = pd.DataFrame.from_records(data)\n",
    "# print(df)\n",
    "\n",
    "# client = pymongo.MongoClient()\n",
    "# data = db.mydb.mycollection.find() # or db.mydb.mycollection.aggregate(pipeline)\n",
    "\n",
    "# df = pd.DataFrame.from_records(data)"
   ]
  },
  {
   "cell_type": "code",
   "execution_count": null,
   "id": "f5b16d60",
   "metadata": {},
   "outputs": [],
   "source": [
    "def get_tweets(Topic,Count):    \n",
    "    i=0\n",
    "    for tweet in tweepy.Cursor(api.search, q=Topic,count=100, lang=\"en\",exclude='retweets').items():\n",
    "        metadata = tweet.user.result_type\n",
    "        print(metadata)\n",
    "        i=i+1\n",
    "        if i>Count:\n",
    "            break\n",
    "        else:\n",
    "            pass\n",
    "\n",
    "Topic=[\"Starbucks\"]\n",
    "get_tweets(Topic , Count=1)"
   ]
  }
 ],
 "metadata": {
  "kernelspec": {
   "display_name": "Python 3",
   "language": "python",
   "name": "python3"
  },
  "language_info": {
   "codemirror_mode": {
    "name": "ipython",
    "version": 3
   },
   "file_extension": ".py",
   "mimetype": "text/x-python",
   "name": "python",
   "nbconvert_exporter": "python",
   "pygments_lexer": "ipython3",
   "version": "3.7.10"
  }
 },
 "nbformat": 4,
 "nbformat_minor": 5
}
